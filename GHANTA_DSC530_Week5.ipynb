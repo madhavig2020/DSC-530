{
 "cells": [
  {
   "cell_type": "markdown",
   "id": "3d98f276",
   "metadata": {},
   "source": [
    "# Madhavi Ghanta\n",
    "## Exercise 5.2\n",
    "## DSC 530\n",
    "## 07/06/23¶"
   ]
  },
  {
   "cell_type": "markdown",
   "id": "5b6f3de6",
   "metadata": {},
   "source": [
    "\n",
    "# Exercise 5-1\n",
    "In the BRFSS (see \"The lognormal Distribtuion\" on page 56), the distribtuion of heights \n",
    "is roughly normal with parameters  mu = 178 cm and sigma = 7.7cm for men, \n",
    "and mu=163 cm and sigma = 7.3 cm for women.\n",
    "\n",
    "In order to join the Blue Man Group (http://bluemancasting.com), \n",
    "you have to be male and between 5'10\" and 6'1\" tall.\n",
    "\n",
    "What percentage of the US male population is in this range?\n",
    "Hint: use scipy.stats.norm.cdf\n"
   ]
  },
  {
   "cell_type": "code",
   "execution_count": 31,
   "id": "f847a165",
   "metadata": {},
   "outputs": [
    {
     "name": "stdout",
     "output_type": "stream",
     "text": [
      "Downloaded hinc.py\n",
      "Downloaded hinc06.csv\n"
     ]
    }
   ],
   "source": [
    "from os.path import basename, exists\n",
    "\n",
    "\n",
    "def download(url):\n",
    "    filename = basename(url)\n",
    "    if not exists(filename):\n",
    "        from urllib.request import urlretrieve\n",
    "\n",
    "        local, _ = urlretrieve(url, filename)\n",
    "        print(\"Downloaded \" + local)\n",
    "        \n",
    "        download(\"https://github.com/AllenDowney/ThinkStats2/raw/master/code/thinkstats2.py\")\n",
    "download(\"https://github.com/AllenDowney/ThinkStats2/raw/master/code/thinkplot.py\")\n",
    "download(\"https://github.com/AllenDowney/ThinkStats2/raw/master/code/brfss.py\")\n",
    "download(\"https://github.com/AllenDowney/ThinkStats2/raw/master/code/CDBRFS08.ASC.gz\")\n",
    "download(\"https://github.com/AllenDowney/ThinkStats2/raw/master/code/hinc.py\")\n",
    "download(\"https://github.com/AllenDowney/ThinkStats2/raw/master/code/hinc06.csv\")\n"
   ]
  },
  {
   "cell_type": "code",
   "execution_count": 8,
   "id": "de2a4d0a",
   "metadata": {},
   "outputs": [
    {
     "data": {
      "text/plain": [
       "scipy.stats._distn_infrastructure.rv_frozen"
      ]
     },
     "execution_count": 8,
     "metadata": {},
     "output_type": "execute_result"
    }
   ],
   "source": [
    "# Importing scipy.stats for objects representing analytic distributions\n",
    "import scipy.stats\n",
    "\n",
    "# Data for distribution of heights with parameters µ = 178 cm and σ = 7.7 cm for men.\n",
    "mu = 178\n",
    "sigma = 7.7\n",
    "dist = scipy.stats.norm(loc=mu, scale=sigma)\n",
    "type(dist)"
   ]
  },
  {
   "cell_type": "code",
   "execution_count": 9,
   "id": "b9360f17",
   "metadata": {},
   "outputs": [
    {
     "name": "stdout",
     "output_type": "stream",
     "text": [
      "The mean of dist is: 178.0\n",
      "The standard deviation is: 7.7\n"
     ]
    },
    {
     "data": {
      "text/plain": [
       "(178.0, 7.7)"
      ]
     },
     "execution_count": 9,
     "metadata": {},
     "output_type": "execute_result"
    }
   ],
   "source": [
    "# dist is a random frozen variable capable of calculating a mean and sd\n",
    "print(f\"The mean of distribution is: {dist.mean()}\")\n",
    "print(f\"The standard deviation is: {dist.std()}\")\n",
    "dist.mean(), dist.std()\n"
   ]
  },
  {
   "cell_type": "code",
   "execution_count": 12,
   "id": "192fbf82",
   "metadata": {},
   "outputs": [
    {
     "name": "stdout",
     "output_type": "stream",
     "text": [
      "34% of men are between 5'10\" and 6'1\"\n"
     ]
    }
   ],
   "source": [
    "#Find percent of men between 5'10\" and 6'1\"\n",
    "cm = 2.54\n",
    "low_cm = 70 * cm\n",
    "hi_cm = 73 * cm\n",
    "\n",
    "\n",
    "low = dist.cdf(low_cm)\n",
    "hi = dist.cdf(hi_cm)\n",
    "\n",
    "low, hi, hi - low\n",
    "\n",
    "\n",
    "\n",
    "\n",
    "#The \"low\" percentage marker identifies the percentage of people in the left tail of the distribution.\n",
    "#We can state that 48.96% of men are less than 5'10\", and that 83.23% are less than 6'1\".\n",
    "#However, to answer our question, we need to look at the space between the hi and low rankings. \n",
    "#To do this, we take the difference between hi and low to derive our answer.\n",
    "#What percentage of men are between 5'10\" and 6'1\". \n",
    "between = hi-low\n",
    "answer = '{:.0%}'.format(between)\n",
    "\n",
    "print(f'{answer} of men are between 5\\'10\" and 6\\'1\"')"
   ]
  },
  {
   "cell_type": "markdown",
   "id": "e7f2415a",
   "metadata": {},
   "source": [
    "# Exercise 5-2\n",
    "To get a feel for the Pareto distribution, let's see how different the world \n",
    "would be if the distribtuion of human height were Pareto.\n",
    "With the paramters xm = 1 m and alpha = 1.7, we get a distribtuion with a reasonable minimum,\n",
    "1 m, and median, 1.5m.\n",
    "\n",
    "Plot this distribution. What is the mean human height in Pareto world? \n",
    "What fraction of the population is shorter than the mean? \n",
    "If there are 7 billion people in Pareto world, \n",
    "how many do we expect to be taller than 1 km?\n",
    "How tall do we expect the tallest person to be?"
   ]
  },
  {
   "cell_type": "code",
   "execution_count": 13,
   "id": "fd65c8da",
   "metadata": {},
   "outputs": [
    {
     "data": {
      "text/plain": [
       "1.5034066538560549"
      ]
     },
     "execution_count": 13,
     "metadata": {},
     "output_type": "execute_result"
    }
   ],
   "source": [
    "# Using the scipy.stats.pareto, we will sett the parameters xm = 1 meter and α = 1.7.\n",
    "alpha = 1.7\n",
    "xmin = 1 \n",
    "dist = scipy.stats.pareto(b=alpha, scale=xmin)\n",
    "dist.median()"
   ]
  },
  {
   "cell_type": "code",
   "execution_count": 14,
   "id": "5a973fc2",
   "metadata": {},
   "outputs": [],
   "source": [
    "# Plot the distribution"
   ]
  },
  {
   "cell_type": "code",
   "execution_count": 15,
   "id": "bff9df23",
   "metadata": {},
   "outputs": [
    {
     "data": {
      "image/png": "[encoded data removed]",
      "text/plain": [
       "<Figure size 432x288 with 1 Axes>"
      ]
     },
     "metadata": {
      "needs_background": "light"
     },
     "output_type": "display_data"
    }
   ],
   "source": [
    "xs, ps = thinkstats2.RenderParetoCdf(xmin, alpha, 0, 10.0, n=100) \n",
    "thinkplot.Plot(xs, ps, label=r'$\\alpha=%g$' % alpha)\n",
    "thinkplot.Config(xlabel='height (m)', ylabel='CDF')"
   ]
  },
  {
   "cell_type": "code",
   "execution_count": 17,
   "id": "1ca5072a",
   "metadata": {},
   "outputs": [],
   "source": [
    "# What is the mean human height in Pareto world?"
   ]
  },
  {
   "cell_type": "code",
   "execution_count": 18,
   "id": "9a9b935e",
   "metadata": {},
   "outputs": [
    {
     "data": {
      "text/plain": [
       "2.428571428571429"
      ]
     },
     "execution_count": 18,
     "metadata": {},
     "output_type": "execute_result"
    }
   ],
   "source": [
    "dist.mean()"
   ]
  },
  {
   "cell_type": "code",
   "execution_count": 19,
   "id": "5fe51e07",
   "metadata": {},
   "outputs": [],
   "source": [
    "# What fraction of people are shorter than the mean?"
   ]
  },
  {
   "cell_type": "code",
   "execution_count": 20,
   "id": "1a11cb66",
   "metadata": {},
   "outputs": [
    {
     "data": {
      "text/plain": [
       "0.778739697565288"
      ]
     },
     "execution_count": 20,
     "metadata": {},
     "output_type": "execute_result"
    }
   ],
   "source": [
    "dist.cdf(dist.mean())"
   ]
  },
  {
   "cell_type": "code",
   "execution_count": 21,
   "id": "f40f1983",
   "metadata": {},
   "outputs": [],
   "source": [
    "# Out of 7 billion people, how many do we expect to be taller than 1 km? You could use dist.cdf or dist.sf."
   ]
  },
  {
   "cell_type": "code",
   "execution_count": 22,
   "id": "ac0b85c0",
   "metadata": {},
   "outputs": [
    {
     "data": {
      "text/plain": [
       "(55602.976430479954, 55602.97643069972)"
      ]
     },
     "execution_count": 22,
     "metadata": {},
     "output_type": "execute_result"
    }
   ],
   "source": [
    "(1 - dist.cdf(1000)) * 7e9, dist.sf(1000) * 7e9"
   ]
  },
  {
   "cell_type": "code",
   "execution_count": 23,
   "id": "592e8d87",
   "metadata": {},
   "outputs": [],
   "source": [
    "# How tall do we expect the tallest person to be?"
   ]
  },
  {
   "cell_type": "code",
   "execution_count": 24,
   "id": "e3f46415",
   "metadata": {},
   "outputs": [
    {
     "data": {
      "text/plain": [
       "1.0525455861201714"
      ]
     },
     "execution_count": 24,
     "metadata": {},
     "output_type": "execute_result"
    }
   ],
   "source": [
    "dist.sf(600000) * 7e9   "
   ]
  },
  {
   "cell_type": "markdown",
   "id": "ab1a99ca",
   "metadata": {},
   "source": [
    "# Exercise 6-1"
   ]
  },
  {
   "cell_type": "markdown",
   "id": "67f80326",
   "metadata": {},
   "source": [
    "The distribtuion of income is famously skewed to the right. In this exercise, we'll measure\n",
    "how strong that skew is.\n",
    "\n",
    "The Current Population Survey (CPS) is a joint effort of the Bureau of Labor Statistics and the Census\n",
    "Bureau to study income and related variables. Data collecte din 2013 is available from the Census Bureau's website.\n",
    "I downloaded hinc06.xls, which is an Excel spreadsheet with information about household income, and converted it\n",
    "to hinc06.csv, a CSV file you will find in the repository for this book. \n",
    "You will also find hinc2.py, which reads this file and transforms the data.\n",
    "\n",
    "Thee data is in the form of a series of income ranges and the number of respondents who fell in each range.\n",
    "The lowest range includes respondents who reported annual hosushold income \"Under $5000.\" The highest range\n",
    "includes respondents who made \"$250,000 or more.\"\n",
    "\n",
    "To estimate mean and other statistics from these data, we have to make sure some assumptions about the lower\n",
    "and upper bounds, and how the values are distributed in each range. hinc2.py provides InterpolateSample, which\n",
    "shows one way to model this data. It takes a DataFrame with a column, income, that contains the upper bound of each\n",
    "range, and freq, which contains the number of respondents in each frame. \n",
    "\n",
    "It also takes log_upper, which is an assumed upper bound on the highest range, expressed in log10 dollars. \n",
    "The default value, log_upper=6.0 represents the assumption that the largest income among the respondents is 10^6,\n",
    "or one million dollars. \n",
    "\n",
    "InterpolateSample generates a pseudo-sample; that is, a sample of household incomes that yields the same number of\n",
    "respondents in each range as the actual data. It assumes that incomes in each range are equally spaced on a log10 scale."
   ]
  },
  {
   "cell_type": "code",
   "execution_count": 34,
   "id": "062b49b5",
   "metadata": {},
   "outputs": [],
   "source": [
    "from __future__ import print_function, division\n",
    "\n",
    "%matplotlib inline\n",
    "\n",
    "import numpy as np\n",
    "import scipy.stats\n",
    "import hinc\n",
    "import thinkplot\n",
    "import thinkstats2\n",
    "\n",
    "income_df = hinc.ReadData()\n",
    "\n",
    "def InterpolateSample(df, log_upper=6.0):\n",
    "    \"\"\"\n",
    "    Makes a sample of log10 household income. \n",
    "    \n",
    "    Assumes that log10 income is uniform in each range.\n",
    "    \n",
    "    df: DataFrame with columns income and freq\n",
    "    log_upper: log10 of the assumed upper bound for the highest range\n",
    "    \n",
    "    returns: NumPy array of log10 household income\n",
    "    \"\"\"\n",
    "    \n",
    "    #compute the log10 of the upper bound for each range\n",
    "    df['log_upper'] = np.log10(df.income)\n",
    "    \n",
    "    # get the lower bounds by shifting the upper bound and filling in\n",
    "    #the first element\n",
    "    df['log_lower'] = df.log_upper.shift(1)\n",
    "    df.loc[0, 'log_lower'] = 3.0\n",
    "    \n",
    "    #plug in a value for the unknown upper bound of the highest range\n",
    "    df.loc[41, 'log_upper'] = log_upper\n",
    "    \n",
    "    #Use the freq column to generate the right number of values in each range\n",
    "    arrays = []\n",
    "    for _, row in df.iterrows():\n",
    "        vals = np.linspace(row.log_lower, row.log_upper, int(row.freq))\n",
    "        arrays.append(vals)\n",
    "        \n",
    "    #Collect the arrays into a single sample\n",
    "    log_sample = np.concatenate(arrays)\n",
    "    return log_sample\n",
    "        "
   ]
  },
  {
   "cell_type": "code",
   "execution_count": 35,
   "id": "385df1ba",
   "metadata": {},
   "outputs": [],
   "source": [
    "# Using InterpolateSample to model the data\n",
    "log_sample = InterpolateSample(income_df, log_upper = 6.0)"
   ]
  },
  {
   "cell_type": "code",
   "execution_count": 36,
   "id": "fa49f49b",
   "metadata": {},
   "outputs": [
    {
     "data": {
      "image/png": "[encoded data removed]",
      "text/plain": [
       "<Figure size 432x288 with 1 Axes>"
      ]
     },
     "metadata": {
      "needs_background": "light"
     },
     "output_type": "display_data"
    }
   ],
   "source": [
    "# Plot of the logged Household income CDF\n",
    "log_cdf = thinkstats2.Cdf(log_sample)\n",
    "thinkplot.Cdf(log_cdf)\n",
    "thinkplot.Config(xlabel='Household income (log $)',\n",
    "               ylabel='CDF')"
   ]
  },
  {
   "cell_type": "code",
   "execution_count": 37,
   "id": "0da2f10b",
   "metadata": {},
   "outputs": [],
   "source": [
    "# Compute the median, mean, skewness and Pearson’s skewness of the resulting sample."
   ]
  },
  {
   "cell_type": "code",
   "execution_count": 48,
   "id": "86525c89",
   "metadata": {},
   "outputs": [],
   "source": [
    "# Creating the RawMoment function for computing sums of powers\n",
    "def RawMoment(xs, k):\n",
    "    return sum(x**k for x in xs) / len(xs)"
   ]
  },
  {
   "cell_type": "code",
   "execution_count": 49,
   "id": "e6e6d724",
   "metadata": {},
   "outputs": [],
   "source": [
    "# Creating CentralMoment function for computing powers of distances from the mean.\n",
    "def CentralMoment(xs, k):\n",
    "    mean = RawMoment(xs, 1)\n",
    "    return sum((x - mean)**k for x in xs) / len(xs)"
   ]
  },
  {
   "cell_type": "code",
   "execution_count": 50,
   "id": "0b0d59e5",
   "metadata": {},
   "outputs": [],
   "source": [
    "# Creating the Pearson's median skewness function\n",
    "def PearsonMedianSkewness(xs):\n",
    "    median = np.median(xs)\n",
    "    mean = RawMoment(xs, 1)\n",
    "    var = CentralMoment(xs, 2)\n",
    "    std = np.sqrt(var)\n",
    "    gp = 3 * (mean - median) / std\n",
    "    return gp"
   ]
  },
  {
   "cell_type": "code",
   "execution_count": 51,
   "id": "749aebb8",
   "metadata": {},
   "outputs": [
    {
     "name": "stdout",
     "output_type": "stream",
     "text": [
      "74278.7075311872\n",
      "51226.93306562372\n",
      "4.949920244429584\n",
      "0.7361105192428834\n"
     ]
    }
   ],
   "source": [
    "sample = np.power(10, log_sample)\n",
    "\n",
    "Sample_Mean = sample.mean()\n",
    "Sample_Median = np.median(sample)\n",
    "Sample_Skew = skew(sample)\n",
    "Sample_Pearson = PearsonMedianSkewness(sample)\n",
    "\n",
    "values = [Sample_Mean, Sample_Median, Sample_Skew, Sample_Pearson]\n",
    "  \n",
    "print('\\n'.join(map(str, values)))"
   ]
  },
  {
   "cell_type": "code",
   "execution_count": 52,
   "id": "208897b3",
   "metadata": {},
   "outputs": [],
   "source": [
    "# What fraction of households report a taxable income below the mean?"
   ]
  },
  {
   "cell_type": "code",
   "execution_count": 53,
   "id": "4eb5c1ab",
   "metadata": {},
   "outputs": [
    {
     "name": "stdout",
     "output_type": "stream",
     "text": [
      "66.0 percent of households report a taxable income below the mean\n"
     ]
    }
   ],
   "source": [
    "cdf = thinkstats2.Cdf(sample)\n",
    "percentofHouseholds = cdf.Prob(Sample_Mean)\n",
    "print(round(percentofHouseholds, 2)*100, \"percent of households report a taxable income below the mean\")"
   ]
  },
  {
   "cell_type": "markdown",
   "id": "45309a51",
   "metadata": {},
   "source": [
    "How do the results depend on the assumed upper bound? - It is based on the assumption that the highest income is one million dollars. However, we know that this is not correct. We know that there are individuals making millions of dollars a year. If we were to include their income in the distribution, the skew would certailty look alot different. Meaning that the results do depend on the assumed upper bound. Without more testing, we do not know exzactly how much the skew is dependent on the upper bound for this particular data set."
   ]
  },
  {
   "cell_type": "code",
   "execution_count": null,
   "id": "f7380b51",
   "metadata": {},
   "outputs": [],
   "source": []
  }
 ],
 "metadata": {
  "kernelspec": {
   "display_name": "Python 3 (ipykernel)",
   "language": "python",
   "name": "python3"
  },
  "language_info": {
   "codemirror_mode": {
    "name": "ipython",
    "version": 3
   },
   "file_extension": ".py",
   "mimetype": "text/x-python",
   "name": "python",
   "nbconvert_exporter": "python",
   "pygments_lexer": "ipython3",
   "version": "3.9.12"
  }
 },
 "nbformat": 4,
 "nbformat_minor": 5
}
