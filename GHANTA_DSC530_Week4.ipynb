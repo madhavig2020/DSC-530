{
 "cells": [
  {
   "cell_type": "markdown",
   "id": "12f9bfd2",
   "metadata": {},
   "source": [
    "# Madhavi Ghanta\n",
    "## Exercise 4.2\n",
    "## DSC 530\n",
    "## 06/28/23¶"
   ]
  },
  {
   "cell_type": "markdown",
   "id": "f7ba148d",
   "metadata": {},
   "source": [
    "# 3-1"
   ]
  },
  {
   "cell_type": "code",
   "execution_count": 5,
   "id": "5d365a9a",
   "metadata": {},
   "outputs": [],
   "source": [
    "# Loading packages needed\n",
    "from __future__ import print_function, division\n",
    "\n",
    "# imports\n",
    "\n",
    "import numpy as np\n",
    "\n",
    "import nsfg\n",
    "#import first\n",
    "import thinkstats2\n",
    "import thinkplot\n",
    "import random"
   ]
  },
  {
   "cell_type": "markdown",
   "id": "24c8bd38",
   "metadata": {},
   "source": [
    "Chapter 3\n",
    "Exercise 3.1\n",
    "Something like the class size paradox appears if you survey children and ask how many children are in their family. Families with many children are more likely to appear in your sample, and families with no children have no chance to be in the sample.\n",
    "\n",
    "Use the NSFG respondent variable numkdhh to construct the actual distribution for the number of children under 18 in the respondents' households.\n",
    "\n",
    "Now compute the biased distribution we would see if we surveyed the children and asked them how many children under 18 (including themselves) are in their household.\n",
    "\n",
    "Plot the actual and biased distributions, and compute their means."
   ]
  },
  {
   "cell_type": "code",
   "execution_count": 6,
   "id": "2eb685a1",
   "metadata": {},
   "outputs": [
    {
     "data": {
      "image/png": "[encoded data removed]",
      "text/plain": [
       "<Figure size 432x288 with 1 Axes>"
      ]
     },
     "metadata": {
      "needs_background": "light"
     },
     "output_type": "display_data"
    }
   ],
   "source": [
    "resp = nsfg.ReadFemResp()\n",
    "PMF = thinkstats2.Pmf(resp.numkdhh, label='NUMKDHH')\n",
    "thinkplot.Pmf(PMF)\n",
    "thinkplot.Config(xlabel='Number of children', ylabel='PMF')"
   ]
  },
  {
   "cell_type": "markdown",
   "id": "6b3fc63d",
   "metadata": {},
   "source": [
    "Now compute the biased distribution we would see if we surveyed the children and asked them how many children under 18 (including themselves) are in their household.\n",
    "Plot the actual and biased distributions, and compute their means."
   ]
  },
  {
   "cell_type": "code",
   "execution_count": 7,
   "id": "efb694d1",
   "metadata": {},
   "outputs": [],
   "source": [
    "def BiasPmf(pmf, label=''):\n",
    "    new_pmf = pmf.Copy(label=label)\n",
    "\n",
    "    for x, p in pmf.Items():\n",
    "        new_pmf.Mult(x, x)\n",
    "        \n",
    "    new_pmf.Normalize()\n",
    "    return new_pmf"
   ]
  },
  {
   "cell_type": "code",
   "execution_count": 8,
   "id": "319e30bf",
   "metadata": {},
   "outputs": [
    {
     "name": "stdout",
     "output_type": "stream",
     "text": [
      "1.024205155043831\n",
      "2.403679100664282\n"
     ]
    },
    {
     "data": {
      "image/png": "[encoded data removed]",
      "text/plain": [
       "<Figure size 432x288 with 1 Axes>"
      ]
     },
     "metadata": {
      "needs_background": "light"
     },
     "output_type": "display_data"
    }
   ],
   "source": [
    "Biased = BiasPmf(PMF, label='Biased')\n",
    "thinkplot.PrePlot(2)\n",
    "thinkplot.Pmfs([PMF, Biased])\n",
    "thinkplot.Config(xlabel='Number of children', ylabel='PMF')\n",
    "print(PMF.Mean())\n",
    "print(Biased.Mean())"
   ]
  },
  {
   "cell_type": "markdown",
   "id": "521b0278",
   "metadata": {},
   "source": [
    "# 3-2\n",
    "## Write functions called PmfMean and PmfVar that take a Pmf object and compute the mean and variance. To test these methods, check that they are consistent with the methods Mean and Var provided by Pmf.\n",
    " "
   ]
  },
  {
   "cell_type": "code",
   "execution_count": 9,
   "id": "7ae54075",
   "metadata": {},
   "outputs": [
    {
     "name": "stdout",
     "output_type": "stream",
     "text": [
      "1.024205155043831\n",
      "2.403679100664282\n",
      "1.4128643263531195\n",
      "1.1732721055059874\n"
     ]
    }
   ],
   "source": [
    "def PmfMean(pmf):\n",
    "    return sum(p * x for x, p in pmf.Items())\n",
    "\n",
    "def PmfVar(pmf, mu=None):\n",
    "    if mu is None:\n",
    "            mu = pmf.Mean()\n",
    "\n",
    "    return sum(p * (x-mu)**2 for x, p in pmf.Items())\n",
    "\n",
    "print(PmfMean(PMF))\n",
    "print(PmfMean(Biased))\n",
    "\n",
    "print(PmfVar(PMF))\n",
    "print(PmfVar(Biased))"
   ]
  },
  {
   "cell_type": "markdown",
   "id": "afab2c15",
   "metadata": {},
   "source": [
    "# 4-1"
   ]
  },
  {
   "cell_type": "code",
   "execution_count": 10,
   "id": "9d70fd8d",
   "metadata": {},
   "outputs": [
    {
     "name": "stdout",
     "output_type": "stream",
     "text": [
      "89.82048574445618\n"
     ]
    }
   ],
   "source": [
    "preg = nsfg.ReadFemPreg()\n",
    "live = preg[preg.outcome ==1]\n",
    "firsts = live[live.birthord == 1]\n",
    "others = live[live.birthord != 1]\n",
    "\n",
    "def PercentileRank(scores, your_score):\n",
    "    count = 0 \n",
    "    for score in scores:\n",
    "        if score <= your_score:\n",
    "            count += 1\n",
    "    \n",
    "    percentile_rank = 100 * count / len(scores)\n",
    "    return percentile_rank\n",
    "\n",
    "print(PercentileRank(others.birthwgt_lb, 8.69))"
   ]
  },
  {
   "cell_type": "markdown",
   "id": "e9e3579c",
   "metadata": {},
   "source": [
    "Discovering my percentile wasn't surprising, I knew I was a heavy baby at 8 lbs. 11 ounces. However I thought it was hilarious that I was supposed to call my mother and apologize if I was in the 90th or higher percentile but I was right on the edge at 89.8 so I didn't need to call and apologize."
   ]
  },
  {
   "cell_type": "markdown",
   "id": "2c739bc7",
   "metadata": {},
   "source": [
    "# 4-2"
   ]
  },
  {
   "cell_type": "code",
   "execution_count": 11,
   "id": "ba889674",
   "metadata": {},
   "outputs": [
    {
     "data": {
      "image/png": "[encoded data removed]",
      "text/plain": [
       "<Figure size 432x288 with 1 Axes>"
      ]
     },
     "metadata": {
      "needs_background": "light"
     },
     "output_type": "display_data"
    }
   ],
   "source": [
    "rands = []\n",
    "for num in range(0,1000):\n",
    "    rands.append(round(random.random(),3))\n",
    "    \n",
    "randomPMF = thinkstats2.Pmf(rands)\n",
    "thinkplot.Pmf(randomPMF)\n",
    "thinkplot.Config(ylabel='PMF')"
   ]
  },
  {
   "cell_type": "markdown",
   "id": "3affa1be",
   "metadata": {},
   "source": [
    "This PMF shows a pretty normal/uniform distribution with just a few numbers receiving higher probability than others. But overall, because the qunatity of random numbers is so high there is more uniformity. With more random data points there will be more uniformity."
   ]
  },
  {
   "cell_type": "code",
   "execution_count": 12,
   "id": "4bb394ae",
   "metadata": {},
   "outputs": [
    {
     "data": {
      "image/png": "[encoded data removed]",
      "text/plain": [
       "<Figure size 432x288 with 1 Axes>"
      ]
     },
     "metadata": {
      "needs_background": "light"
     },
     "output_type": "display_data"
    }
   ],
   "source": [
    "randomCDF = thinkstats2.Cdf(rands)\n",
    "thinkplot.Cdf(randomCDF)\n",
    "thinkplot.Config(ylabel='CDF')"
   ]
  },
  {
   "cell_type": "markdown",
   "id": "0b9c05df",
   "metadata": {},
   "source": [
    "The CDF shows almost perfectly uniform distribution with a straight line."
   ]
  },
  {
   "cell_type": "code",
   "execution_count": null,
   "id": "f51595c7",
   "metadata": {},
   "outputs": [],
   "source": []
  }
 ],
 "metadata": {
  "kernelspec": {
   "display_name": "Python 3 (ipykernel)",
   "language": "python",
   "name": "python3"
  },
  "language_info": {
   "codemirror_mode": {
    "name": "ipython",
    "version": 3
   },
   "file_extension": ".py",
   "mimetype": "text/x-python",
   "name": "python",
   "nbconvert_exporter": "python",
   "pygments_lexer": "ipython3",
   "version": "3.9.12"
  }
 },
 "nbformat": 4,
 "nbformat_minor": 5
}
