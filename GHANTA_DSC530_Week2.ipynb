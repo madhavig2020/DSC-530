{
 "cells": [
  {
   "cell_type": "code",
   "execution_count": 2,
   "id": "409c8658",
   "metadata": {},
   "outputs": [
    {
     "name": "stdout",
     "output_type": "stream",
     "text": [
      "Hello World! My name is Madhavi Ghanta\n"
     ]
    }
   ],
   "source": [
    "# week 2\n",
    "# 2.1 Exercise: Prepairing for Exploratory Data Analysis\n",
    "# Author: Madhavi Ghanta\n",
    "# Date 06/17/23"
   ]
  },
  {
   "cell_type": "code",
   "execution_count": 1,
   "id": "675c6173",
   "metadata": {},
   "outputs": [
    {
     "name": "stdout",
     "output_type": "stream",
     "text": [
      "Hello World! My name is Madhavi Ghanta\n"
     ]
    }
   ],
   "source": [
    "#Display the text “Hello World! My name is ....\"\n",
    "print(\"Hello World! My name is Madhavi Ghanta\")"
   ]
  },
  {
   "cell_type": "code",
   "execution_count": 2,
   "id": "cd802599",
   "metadata": {},
   "outputs": [
    {
     "name": "stdout",
     "output_type": "stream",
     "text": [
      "Sum of 4+6 is  10\n"
     ]
    }
   ],
   "source": [
    "#Add two numbers together\n",
    "print(\"Sum of 4+6 is \",4+6)"
   ]
  },
  {
   "cell_type": "code",
   "execution_count": 3,
   "id": "fa9bfcc9",
   "metadata": {},
   "outputs": [
    {
     "name": "stdout",
     "output_type": "stream",
     "text": [
      "6-4 is  2\n"
     ]
    }
   ],
   "source": [
    "#Subtract a number from another number\n",
    "print(\"6-4 is \" ,6-4)"
   ]
  },
  {
   "cell_type": "code",
   "execution_count": 4,
   "id": "2093e5e1",
   "metadata": {},
   "outputs": [
    {
     "name": "stdout",
     "output_type": "stream",
     "text": [
      "6*4 is 24\n"
     ]
    }
   ],
   "source": [
    "#Multiply two numbers\n",
    "print(\"6*4 is\" ,6*4)"
   ]
  },
  {
   "cell_type": "code",
   "execution_count": 5,
   "id": "8cde99cf",
   "metadata": {},
   "outputs": [
    {
     "name": "stdout",
     "output_type": "stream",
     "text": [
      "8/4 is 2.0\n"
     ]
    }
   ],
   "source": [
    "# Divide two numbers\n",
    "print(\"8/4 is\" ,8/4)"
   ]
  },
  {
   "cell_type": "code",
   "execution_count": 9,
   "id": "8033b6bb",
   "metadata": {},
   "outputs": [
    {
     "name": "stdout",
     "output_type": "stream",
     "text": [
      "Concatenate two strings---- Summer term class is DSC 530 - Exploratory Data Analysis\n"
     ]
    }
   ],
   "source": [
    "#Concatenate  two strings together (any words)\n",
    "print(\"Concatenate two strings----\" , \"Summer term class \" + \"is DSC 530 - Exploratory Data Analysis\")\n"
   ]
  },
  {
   "cell_type": "code",
   "execution_count": 15,
   "id": "0f75eaa3",
   "metadata": {},
   "outputs": [
    {
     "name": "stdout",
     "output_type": "stream",
     "text": [
      "List of numbers -  [2, 4, 6, 8]\n",
      "List of Strings -  ['Apple', 'Pear', 'Carrot', 'Mango']\n"
     ]
    }
   ],
   "source": [
    "#Create a list of 4 items (can be strings, numbers, both)\n",
    "a= [2,4,6,8]\n",
    "print(\"List of numbers - \",a)\n",
    "b= [\"Apple\", \"Pear\",\"Carrot\", \"Mango\"]\n",
    "print(\"List of Strings - \", b)"
   ]
  },
  {
   "cell_type": "code",
   "execution_count": 16,
   "id": "a243326a",
   "metadata": {},
   "outputs": [
    {
     "name": "stdout",
     "output_type": "stream",
     "text": [
      "List of numbers appended -  [2, 4, 6, 8, 10]\n",
      "List of Strings appended -  ['Apple', 'Pear', 'Carrot', 'Mango', 'Cherry']\n"
     ]
    }
   ],
   "source": [
    "#Append an item to your list (again, can be a string, number)\n",
    "a.append(10)\n",
    "print(\"List of numbers appended - \",a)\n",
    "b.append(\"Cherry\")\n",
    "print(\"List of Strings appended - \",b)"
   ]
  },
  {
   "cell_type": "code",
   "execution_count": 17,
   "id": "34a6d537",
   "metadata": {},
   "outputs": [
    {
     "name": "stdout",
     "output_type": "stream",
     "text": [
      "Printing the tuple -  (10, 20, 30, 40)\n"
     ]
    }
   ],
   "source": [
    "#Create a tuple with 4 items (can be strings, numbers, both)\n",
    "t = (10,20,30,40)\n",
    "print(\"Printing the tuple - \",t)"
   ]
  },
  {
   "cell_type": "code",
   "execution_count": null,
   "id": "2e0ae2c5",
   "metadata": {},
   "outputs": [],
   "source": []
  }
 ],
 "metadata": {
  "kernelspec": {
   "display_name": "Python 3 (ipykernel)",
   "language": "python",
   "name": "python3"
  },
  "language_info": {
   "codemirror_mode": {
    "name": "ipython",
    "version": 3
   },
   "file_extension": ".py",
   "mimetype": "text/x-python",
   "name": "python",
   "nbconvert_exporter": "python",
   "pygments_lexer": "ipython3",
   "version": "3.9.12"
  }
 },
 "nbformat": 4,
 "nbformat_minor": 5
}
